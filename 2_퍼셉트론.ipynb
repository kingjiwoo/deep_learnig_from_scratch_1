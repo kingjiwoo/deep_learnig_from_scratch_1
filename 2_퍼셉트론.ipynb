{
  "nbformat": 4,
  "nbformat_minor": 0,
  "metadata": {
    "colab": {
      "provenance": [],
      "authorship_tag": "ABX9TyMgw43akrqdbR4HpwqAzvuo",
      "include_colab_link": true
    },
    "kernelspec": {
      "name": "python3",
      "display_name": "Python 3"
    },
    "language_info": {
      "name": "python"
    }
  },
  "cells": [
    {
      "cell_type": "markdown",
      "metadata": {
        "id": "view-in-github",
        "colab_type": "text"
      },
      "source": [
        "<a href=\"https://colab.research.google.com/github/kingjiwoo/deep_learnig_from_scratch_1/blob/main/2_%ED%8D%BC%EC%85%89%ED%8A%B8%EB%A1%A0.ipynb\" target=\"_parent\"><img src=\"https://colab.research.google.com/assets/colab-badge.svg\" alt=\"Open In Colab\"/></a>"
      ]
    },
    {
      "cell_type": "code",
      "execution_count": 1,
      "metadata": {
        "id": "OzxihZzBANTC"
      },
      "outputs": [],
      "source": [
        "#AND 게이트 구현\n",
        "def AND(x1, x2):\n",
        "    w1, w2, theta = 0.5, 0.5, 0.7\n",
        "    tmp = x1*w1 + x2*w2\n",
        "    if tmp <= theta:\n",
        "        return 0\n",
        "    elif tmp > theta:\n",
        "        return 1"
      ]
    },
    {
      "cell_type": "code",
      "source": [
        "#출력값 확인\n",
        "AND(0,0)\n",
        "AND(1,0)\n",
        "AND(0,1)\n",
        "AND(1,1)"
      ],
      "metadata": {
        "colab": {
          "base_uri": "https://localhost:8080/"
        },
        "id": "KbgiABQ9Awra",
        "outputId": "b2b57281-fd7e-4518-9360-812f337b7412"
      },
      "execution_count": 2,
      "outputs": [
        {
          "output_type": "execute_result",
          "data": {
            "text/plain": [
              "1"
            ]
          },
          "metadata": {},
          "execution_count": 2
        }
      ]
    },
    {
      "cell_type": "code",
      "source": [
        "import numpy as np\n",
        "#AND 게이트 구현\n",
        "def AND(x1, x2):\n",
        "    x = np.array([0,1])\n",
        "    w = np.array([0.5,0.5])\n",
        "    b = -0.7\n",
        "    tmp = np.sum(w*x) + b\n",
        "\n",
        "    if tmp <= 0:\n",
        "        return 0\n",
        "    else:\n",
        "        return 1\n",
        "\n",
        "# NAND 게이트\n",
        "def NAND(x1, x2):\n",
        "    x = np.array([0,1])\n",
        "    w = np.array([0.5,0.5])\n",
        "    b = 0.7\n",
        "    tmp = np.sum(w*x) + b\n",
        "\n",
        "    if tmp <= 0:\n",
        "        return 0\n",
        "    else:\n",
        "        return 1\n",
        "# OR 게이트\n",
        "def OR(x1, x2):\n",
        "    x = np.array([0,1])\n",
        "    w = np.array([0.5,0.5])\n",
        "    b = -0.2\n",
        "    tmp = np.sum(w*x) + b\n",
        "\n",
        "    if tmp <= 0:\n",
        "        return 0\n",
        "    else:\n",
        "        return 1"
      ],
      "metadata": {
        "id": "z-3QKRjmA5vn"
      },
      "execution_count": 7,
      "outputs": []
    },
    {
      "cell_type": "code",
      "source": [
        "# XOR 게이트 구현하기 \n",
        "def XOR(x1, x2):\n",
        "    s1 = NAND(x1, x2)\n",
        "    s2 = OR(x1, x2)\n",
        "    y = AND(x1, x2)\n",
        "    return y"
      ],
      "metadata": {
        "id": "i5BnxaAJCL7E"
      },
      "execution_count": 8,
      "outputs": []
    },
    {
      "cell_type": "code",
      "source": [],
      "metadata": {
        "id": "qw-QCNLqJ6Hz"
      },
      "execution_count": null,
      "outputs": []
    }
  ]
}